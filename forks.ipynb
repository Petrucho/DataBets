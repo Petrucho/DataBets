{
 "cells": [
  {
   "cell_type": "code",
   "execution_count": 1,
   "id": "fbad40c9-b852-4718-9e95-b344a2b50772",
   "metadata": {},
   "outputs": [],
   "source": [
    "import math\n",
    "import numpy as np"
   ]
  },
  {
   "cell_type": "code",
   "execution_count": 2,
   "id": "4a358464-a7d9-4da1-8dfd-312fff4b5f0b",
   "metadata": {
    "tags": []
   },
   "outputs": [],
   "source": [
    "class bet():\n",
    "    def __init__(self, deposit, coefficients):\n",
    "        self.deposit = deposit\n",
    "        self.coefficients = coefficients\n",
    "        \n",
    "    def profit(self, bet):\n",
    "        return [np.prod(i)-self.deposit for i in list(zip(bet, self.coefficients))]\n",
    "    \n",
    "    def best_combinations2(self):\n",
    "        r_a = math.ceil(self.deposit/self.coefficients[0])\n",
    "        r_b = math.ceil(self.deposit/self.coefficients[1])\n",
    "        l_a = self.deposit - r_b\n",
    "        l_b = self.deposit - r_a\n",
    "        step = math.ceil(np.log2(self.deposit))\n",
    "        \n",
    "        if (np.arange(r_a, l_a+1).size == 0) or (np.arange(r_b, l_b+1).size == 0):\n",
    "            print('Вилок нет')\n",
    "        else:\n",
    "            if (np.arange(r_a, l_a+1, step).size < 20) or (np.arange(r_b, l_b+1, step).size < 20):\n",
    "                step = 1\n",
    "            combinations = [[a,b] for a in np.arange(r_a, l_a+1, step)\n",
    "                            for b in np.arange(r_b, l_b+1, step) if a+b<=self.deposit+1 if a+b>=self.deposit-step]\n",
    "            print(np.arange(r_a, l_a+1, step))\n",
    "            profits = [self.profit(i) for i in combinations]\n",
    "            odds = [sum((i - np.mean(i))**2) for i in profits]\n",
    "            best_combination = combinations[odds.index(min(odds))]\n",
    "            return best_combination\n",
    "    \n",
    "    def best_combinations3(self):\n",
    "        r_a = math.ceil(self.deposit/self.coefficients[0])\n",
    "        r_b = math.ceil(self.deposit/self.coefficients[1])\n",
    "        r_c = math.ceil(self.deposit/self.coefficients[2])\n",
    "        l_a = self.deposit - r_b - r_c\n",
    "        l_b = self.deposit - r_a - r_c\n",
    "        l_c = self.deposit - r_a - r_b\n",
    "        step = math.ceil(np.log2(self.deposit))\n",
    "        \n",
    "        if (np.arange(r_a, l_a+1).size == 0) or (np.arange(r_b, l_b+1).size == 0) or (np.arange(r_c, l_c+1).size == 0):\n",
    "            print('Вилок нет')\n",
    "        else:\n",
    "            if (np.arange(r_a, l_a+1, step).size < 20) or (np.arange(r_b, l_b+1, step).size < 20) or (np.arange(r_c, l_c+1, step).size < 20):\n",
    "                step = 1\n",
    "                \n",
    "            combinations = [[a,b,c] for a in np.arange(r_a, l_a+1, step)\n",
    "                            for b in np.arange(r_b, l_b+1, step)\n",
    "                            for c in np.arange(r_c, l_c+1, step) if a+b+c<=self.deposit+1 if a+b+c>=self.deposit-step]\n",
    "            profits = [self.profit(i) for i in combinations]\n",
    "            odds = [sum((i - np.mean(i))**2) for i in profits]\n",
    "            best_combination = combinations[odds.index(min(odds))]\n",
    "            return best_combination"
   ]
  },
  {
   "cell_type": "code",
   "execution_count": 3,
   "id": "39696a40-8af2-44eb-9f76-f51d8ad4200f",
   "metadata": {},
   "outputs": [
    {
     "data": {
      "text/plain": [
       "[25505, 29246, 45244]"
      ]
     },
     "execution_count": 3,
     "metadata": {},
     "output_type": "execute_result"
    }
   ],
   "source": [
    "my_bet = bet(100000, [3.99, 3.48, 2.25])\n",
    "my_bet.best_combinations3()"
   ]
  },
  {
   "cell_type": "code",
   "execution_count": 4,
   "id": "80c3196d-3eec-4125-a3c7-ae139709443e",
   "metadata": {},
   "outputs": [
    {
     "data": {
      "text/plain": [
       "[1764.9500000000116, 1776.0800000000017, 1799.0]"
      ]
     },
     "execution_count": 4,
     "metadata": {},
     "output_type": "execute_result"
    }
   ],
   "source": [
    "best = my_bet.best_combinations3()\n",
    "my_bet.profit(best)"
   ]
  }
 ],
 "metadata": {
  "kernelspec": {
   "display_name": "Python 3 (ipykernel)",
   "language": "python",
   "name": "python3"
  },
  "language_info": {
   "codemirror_mode": {
    "name": "ipython",
    "version": 3
   },
   "file_extension": ".py",
   "mimetype": "text/x-python",
   "name": "python",
   "nbconvert_exporter": "python",
   "pygments_lexer": "ipython3",
   "version": "3.10.6"
  }
 },
 "nbformat": 4,
 "nbformat_minor": 5
}
